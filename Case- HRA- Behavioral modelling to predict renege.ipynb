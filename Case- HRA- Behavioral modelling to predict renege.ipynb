{
 "cells": [
  {
   "cell_type": "markdown",
   "id": "d1993155",
   "metadata": {},
   "source": [
    "## Submitted by: Ashwini Sanku (M2021ANLT007), TISS Analytics "
   ]
  },
  {
   "cell_type": "markdown",
   "id": "068287ef",
   "metadata": {},
   "source": [
    "# HRA- Behavioral Modelling to Predict Renege"
   ]
  },
  {
   "cell_type": "markdown",
   "id": "1fe866cc",
   "metadata": {},
   "source": [
    "## Part 1 : General Data Preprocessing "
   ]
  },
  {
   "cell_type": "code",
   "execution_count": 2,
   "id": "592715cc",
   "metadata": {},
   "outputs": [],
   "source": [
    "#Importing necessary libraries \n",
    "import numpy as np\n",
    "import pandas as pd\n",
    "import seaborn as sns\n",
    "import matplotlib.pyplot as plt\n",
    "%matplotlib inline"
   ]
  },
  {
   "cell_type": "code",
   "execution_count": 3,
   "id": "20f8aa6a",
   "metadata": {},
   "outputs": [],
   "source": [
    "#Reading the data from current working directory\n",
    "df = pd.read_csv(\"C:/Users/ashwi/Downloads/HRA/IMB553-XLS-ENG.csv\")"
   ]
  },
  {
   "cell_type": "code",
   "execution_count": 4,
   "id": "99c4a1ea",
   "metadata": {},
   "outputs": [
    {
     "data": {
      "text/html": [
       "<div>\n",
       "<style scoped>\n",
       "    .dataframe tbody tr th:only-of-type {\n",
       "        vertical-align: middle;\n",
       "    }\n",
       "\n",
       "    .dataframe tbody tr th {\n",
       "        vertical-align: top;\n",
       "    }\n",
       "\n",
       "    .dataframe thead th {\n",
       "        text-align: right;\n",
       "    }\n",
       "</style>\n",
       "<table border=\"1\" class=\"dataframe\">\n",
       "  <thead>\n",
       "    <tr style=\"text-align: right;\">\n",
       "      <th></th>\n",
       "      <th>Candidate Ref</th>\n",
       "      <th>DOJ Extended</th>\n",
       "      <th>Duration to accept offer</th>\n",
       "      <th>Notice period</th>\n",
       "      <th>Offered band</th>\n",
       "      <th>Pecent hike expected in CTC</th>\n",
       "      <th>Percent hike offered in CTC</th>\n",
       "      <th>Percent difference CTC</th>\n",
       "      <th>Joining Bonus</th>\n",
       "      <th>Candidate relocate actual</th>\n",
       "      <th>Gender</th>\n",
       "      <th>Candidate Source</th>\n",
       "      <th>Rex in Yrs</th>\n",
       "      <th>LOB</th>\n",
       "      <th>Location</th>\n",
       "      <th>Age</th>\n",
       "      <th>Status</th>\n",
       "      <th>Joined</th>\n",
       "    </tr>\n",
       "  </thead>\n",
       "  <tbody>\n",
       "    <tr>\n",
       "      <th>0</th>\n",
       "      <td>2110407</td>\n",
       "      <td>Yes</td>\n",
       "      <td>14.0</td>\n",
       "      <td>30</td>\n",
       "      <td>E2</td>\n",
       "      <td>-20.79</td>\n",
       "      <td>13.16</td>\n",
       "      <td>42.86</td>\n",
       "      <td>No</td>\n",
       "      <td>No</td>\n",
       "      <td>Female</td>\n",
       "      <td>Agency</td>\n",
       "      <td>7</td>\n",
       "      <td>ERS</td>\n",
       "      <td>Noida</td>\n",
       "      <td>34</td>\n",
       "      <td>Joined</td>\n",
       "      <td>1</td>\n",
       "    </tr>\n",
       "    <tr>\n",
       "      <th>1</th>\n",
       "      <td>2112635</td>\n",
       "      <td>No</td>\n",
       "      <td>18.0</td>\n",
       "      <td>30</td>\n",
       "      <td>E2</td>\n",
       "      <td>50.00</td>\n",
       "      <td>320.00</td>\n",
       "      <td>180.00</td>\n",
       "      <td>No</td>\n",
       "      <td>No</td>\n",
       "      <td>Male</td>\n",
       "      <td>Employee Referral</td>\n",
       "      <td>8</td>\n",
       "      <td>INFRA</td>\n",
       "      <td>Chennai</td>\n",
       "      <td>34</td>\n",
       "      <td>Joined</td>\n",
       "      <td>1</td>\n",
       "    </tr>\n",
       "    <tr>\n",
       "      <th>2</th>\n",
       "      <td>2112838</td>\n",
       "      <td>No</td>\n",
       "      <td>3.0</td>\n",
       "      <td>45</td>\n",
       "      <td>E2</td>\n",
       "      <td>42.84</td>\n",
       "      <td>42.84</td>\n",
       "      <td>0.00</td>\n",
       "      <td>No</td>\n",
       "      <td>No</td>\n",
       "      <td>Male</td>\n",
       "      <td>Agency</td>\n",
       "      <td>4</td>\n",
       "      <td>INFRA</td>\n",
       "      <td>Noida</td>\n",
       "      <td>27</td>\n",
       "      <td>Joined</td>\n",
       "      <td>1</td>\n",
       "    </tr>\n",
       "    <tr>\n",
       "      <th>3</th>\n",
       "      <td>2115021</td>\n",
       "      <td>No</td>\n",
       "      <td>26.0</td>\n",
       "      <td>30</td>\n",
       "      <td>E2</td>\n",
       "      <td>42.84</td>\n",
       "      <td>42.84</td>\n",
       "      <td>0.00</td>\n",
       "      <td>No</td>\n",
       "      <td>No</td>\n",
       "      <td>Male</td>\n",
       "      <td>Employee Referral</td>\n",
       "      <td>4</td>\n",
       "      <td>INFRA</td>\n",
       "      <td>Noida</td>\n",
       "      <td>34</td>\n",
       "      <td>Joined</td>\n",
       "      <td>1</td>\n",
       "    </tr>\n",
       "    <tr>\n",
       "      <th>4</th>\n",
       "      <td>2115125</td>\n",
       "      <td>Yes</td>\n",
       "      <td>1.0</td>\n",
       "      <td>120</td>\n",
       "      <td>E2</td>\n",
       "      <td>42.59</td>\n",
       "      <td>42.59</td>\n",
       "      <td>0.00</td>\n",
       "      <td>No</td>\n",
       "      <td>Yes</td>\n",
       "      <td>Male</td>\n",
       "      <td>Employee Referral</td>\n",
       "      <td>6</td>\n",
       "      <td>INFRA</td>\n",
       "      <td>Noida</td>\n",
       "      <td>34</td>\n",
       "      <td>Joined</td>\n",
       "      <td>1</td>\n",
       "    </tr>\n",
       "  </tbody>\n",
       "</table>\n",
       "</div>"
      ],
      "text/plain": [
       "   Candidate Ref DOJ Extended  Duration to accept offer  Notice period  \\\n",
       "0        2110407          Yes                      14.0             30   \n",
       "1        2112635           No                      18.0             30   \n",
       "2        2112838           No                       3.0             45   \n",
       "3        2115021           No                      26.0             30   \n",
       "4        2115125          Yes                       1.0            120   \n",
       "\n",
       "  Offered band  Pecent hike expected in CTC  Percent hike offered in CTC  \\\n",
       "0           E2                       -20.79                        13.16   \n",
       "1           E2                        50.00                       320.00   \n",
       "2           E2                        42.84                        42.84   \n",
       "3           E2                        42.84                        42.84   \n",
       "4           E2                        42.59                        42.59   \n",
       "\n",
       "   Percent difference CTC Joining Bonus Candidate relocate actual  Gender  \\\n",
       "0                   42.86            No                        No  Female   \n",
       "1                  180.00            No                        No    Male   \n",
       "2                    0.00            No                        No    Male   \n",
       "3                    0.00            No                        No    Male   \n",
       "4                    0.00            No                       Yes    Male   \n",
       "\n",
       "    Candidate Source  Rex in Yrs    LOB Location  Age  Status  Joined  \n",
       "0             Agency           7    ERS    Noida   34  Joined       1  \n",
       "1  Employee Referral           8  INFRA  Chennai   34  Joined       1  \n",
       "2             Agency           4  INFRA    Noida   27  Joined       1  \n",
       "3  Employee Referral           4  INFRA    Noida   34  Joined       1  \n",
       "4  Employee Referral           6  INFRA    Noida   34  Joined       1  "
      ]
     },
     "execution_count": 4,
     "metadata": {},
     "output_type": "execute_result"
    }
   ],
   "source": [
    "#Glancing through the data \n",
    "df.head(5)"
   ]
  },
  {
   "cell_type": "code",
   "execution_count": 5,
   "id": "e294b6c2",
   "metadata": {},
   "outputs": [
    {
     "data": {
      "text/plain": [
       "(12333, 18)"
      ]
     },
     "execution_count": 5,
     "metadata": {},
     "output_type": "execute_result"
    }
   ],
   "source": [
    "df.shape"
   ]
  },
  {
   "cell_type": "code",
   "execution_count": 6,
   "id": "f2acdf1f",
   "metadata": {},
   "outputs": [
    {
     "name": "stdout",
     "output_type": "stream",
     "text": [
      "Number of Rows in the dataframe are 12333 \n",
      "Number of columns in the dataframe are 18 \n"
     ]
    }
   ],
   "source": [
    "#Checking the number of rows and columns in the dataframe\n",
    "\n",
    "rows_df=df.shape[0]\n",
    "cols_df=df.shape[1]\n",
    "print(\"Number of Rows in the dataframe are %d \"%rows_df)\n",
    "print(\"Number of columns in the dataframe are %d \"%cols_df)"
   ]
  },
  {
   "cell_type": "code",
   "execution_count": 7,
   "id": "7046620e",
   "metadata": {},
   "outputs": [
    {
     "data": {
      "text/plain": [
       "Candidate Ref                    int64\n",
       "DOJ Extended                    object\n",
       "Duration to accept offer       float64\n",
       "Notice period                    int64\n",
       "Offered band                    object\n",
       "Pecent hike expected in CTC    float64\n",
       "Percent hike offered in CTC    float64\n",
       "Percent difference CTC         float64\n",
       "Joining Bonus                   object\n",
       "Candidate relocate actual       object\n",
       "Gender                          object\n",
       "Candidate Source                object\n",
       "Rex in Yrs                       int64\n",
       "LOB                             object\n",
       "Location                        object\n",
       "Age                              int64\n",
       "Status                          object\n",
       "Joined                           int64\n",
       "dtype: object"
      ]
     },
     "execution_count": 7,
     "metadata": {},
     "output_type": "execute_result"
    }
   ],
   "source": [
    "df.dtypes"
   ]
  },
  {
   "cell_type": "code",
   "execution_count": 8,
   "id": "4e684a88",
   "metadata": {},
   "outputs": [
    {
     "name": "stdout",
     "output_type": "stream",
     "text": [
      "<class 'pandas.core.frame.DataFrame'>\n",
      "RangeIndex: 12333 entries, 0 to 12332\n",
      "Data columns (total 18 columns):\n",
      " #   Column                       Non-Null Count  Dtype  \n",
      "---  ------                       --------------  -----  \n",
      " 0   Candidate Ref                12333 non-null  int64  \n",
      " 1   DOJ Extended                 12333 non-null  object \n",
      " 2   Duration to accept offer     9614 non-null   float64\n",
      " 3   Notice period                12333 non-null  int64  \n",
      " 4   Offered band                 12333 non-null  object \n",
      " 5   Pecent hike expected in CTC  11586 non-null  float64\n",
      " 6   Percent hike offered in CTC  11737 non-null  float64\n",
      " 7   Percent difference CTC       11482 non-null  float64\n",
      " 8   Joining Bonus                12333 non-null  object \n",
      " 9   Candidate relocate actual    12333 non-null  object \n",
      " 10  Gender                       12333 non-null  object \n",
      " 11  Candidate Source             12333 non-null  object \n",
      " 12  Rex in Yrs                   12333 non-null  int64  \n",
      " 13  LOB                          12333 non-null  object \n",
      " 14  Location                     12333 non-null  object \n",
      " 15  Age                          12333 non-null  int64  \n",
      " 16  Status                       12333 non-null  object \n",
      " 17  Joined                       12333 non-null  int64  \n",
      "dtypes: float64(4), int64(5), object(9)\n",
      "memory usage: 1.7+ MB\n"
     ]
    }
   ],
   "source": [
    "df.info()"
   ]
  },
  {
   "cell_type": "code",
   "execution_count": 9,
   "id": "cbc408c2",
   "metadata": {},
   "outputs": [],
   "source": [
    "df=df.drop(['Candidate Ref'], axis = 1)"
   ]
  },
  {
   "cell_type": "code",
   "execution_count": 10,
   "id": "e124d63b",
   "metadata": {},
   "outputs": [
    {
     "data": {
      "text/html": [
       "<div>\n",
       "<style scoped>\n",
       "    .dataframe tbody tr th:only-of-type {\n",
       "        vertical-align: middle;\n",
       "    }\n",
       "\n",
       "    .dataframe tbody tr th {\n",
       "        vertical-align: top;\n",
       "    }\n",
       "\n",
       "    .dataframe thead th {\n",
       "        text-align: right;\n",
       "    }\n",
       "</style>\n",
       "<table border=\"1\" class=\"dataframe\">\n",
       "  <thead>\n",
       "    <tr style=\"text-align: right;\">\n",
       "      <th></th>\n",
       "      <th>DOJ Extended</th>\n",
       "      <th>Duration to accept offer</th>\n",
       "      <th>Notice period</th>\n",
       "      <th>Offered band</th>\n",
       "      <th>Pecent hike expected in CTC</th>\n",
       "      <th>Percent hike offered in CTC</th>\n",
       "      <th>Percent difference CTC</th>\n",
       "      <th>Joining Bonus</th>\n",
       "      <th>Candidate relocate actual</th>\n",
       "      <th>Gender</th>\n",
       "      <th>Candidate Source</th>\n",
       "      <th>Rex in Yrs</th>\n",
       "      <th>LOB</th>\n",
       "      <th>Location</th>\n",
       "      <th>Age</th>\n",
       "      <th>Status</th>\n",
       "      <th>Joined</th>\n",
       "    </tr>\n",
       "  </thead>\n",
       "  <tbody>\n",
       "    <tr>\n",
       "      <th>0</th>\n",
       "      <td>Yes</td>\n",
       "      <td>14.0</td>\n",
       "      <td>30</td>\n",
       "      <td>E2</td>\n",
       "      <td>-20.79</td>\n",
       "      <td>13.16</td>\n",
       "      <td>42.86</td>\n",
       "      <td>No</td>\n",
       "      <td>No</td>\n",
       "      <td>Female</td>\n",
       "      <td>Agency</td>\n",
       "      <td>7</td>\n",
       "      <td>ERS</td>\n",
       "      <td>Noida</td>\n",
       "      <td>34</td>\n",
       "      <td>Joined</td>\n",
       "      <td>1</td>\n",
       "    </tr>\n",
       "    <tr>\n",
       "      <th>1</th>\n",
       "      <td>No</td>\n",
       "      <td>18.0</td>\n",
       "      <td>30</td>\n",
       "      <td>E2</td>\n",
       "      <td>50.00</td>\n",
       "      <td>320.00</td>\n",
       "      <td>180.00</td>\n",
       "      <td>No</td>\n",
       "      <td>No</td>\n",
       "      <td>Male</td>\n",
       "      <td>Employee Referral</td>\n",
       "      <td>8</td>\n",
       "      <td>INFRA</td>\n",
       "      <td>Chennai</td>\n",
       "      <td>34</td>\n",
       "      <td>Joined</td>\n",
       "      <td>1</td>\n",
       "    </tr>\n",
       "    <tr>\n",
       "      <th>2</th>\n",
       "      <td>No</td>\n",
       "      <td>3.0</td>\n",
       "      <td>45</td>\n",
       "      <td>E2</td>\n",
       "      <td>42.84</td>\n",
       "      <td>42.84</td>\n",
       "      <td>0.00</td>\n",
       "      <td>No</td>\n",
       "      <td>No</td>\n",
       "      <td>Male</td>\n",
       "      <td>Agency</td>\n",
       "      <td>4</td>\n",
       "      <td>INFRA</td>\n",
       "      <td>Noida</td>\n",
       "      <td>27</td>\n",
       "      <td>Joined</td>\n",
       "      <td>1</td>\n",
       "    </tr>\n",
       "    <tr>\n",
       "      <th>3</th>\n",
       "      <td>No</td>\n",
       "      <td>26.0</td>\n",
       "      <td>30</td>\n",
       "      <td>E2</td>\n",
       "      <td>42.84</td>\n",
       "      <td>42.84</td>\n",
       "      <td>0.00</td>\n",
       "      <td>No</td>\n",
       "      <td>No</td>\n",
       "      <td>Male</td>\n",
       "      <td>Employee Referral</td>\n",
       "      <td>4</td>\n",
       "      <td>INFRA</td>\n",
       "      <td>Noida</td>\n",
       "      <td>34</td>\n",
       "      <td>Joined</td>\n",
       "      <td>1</td>\n",
       "    </tr>\n",
       "    <tr>\n",
       "      <th>4</th>\n",
       "      <td>Yes</td>\n",
       "      <td>1.0</td>\n",
       "      <td>120</td>\n",
       "      <td>E2</td>\n",
       "      <td>42.59</td>\n",
       "      <td>42.59</td>\n",
       "      <td>0.00</td>\n",
       "      <td>No</td>\n",
       "      <td>Yes</td>\n",
       "      <td>Male</td>\n",
       "      <td>Employee Referral</td>\n",
       "      <td>6</td>\n",
       "      <td>INFRA</td>\n",
       "      <td>Noida</td>\n",
       "      <td>34</td>\n",
       "      <td>Joined</td>\n",
       "      <td>1</td>\n",
       "    </tr>\n",
       "  </tbody>\n",
       "</table>\n",
       "</div>"
      ],
      "text/plain": [
       "  DOJ Extended  Duration to accept offer  Notice period Offered band  \\\n",
       "0          Yes                      14.0             30           E2   \n",
       "1           No                      18.0             30           E2   \n",
       "2           No                       3.0             45           E2   \n",
       "3           No                      26.0             30           E2   \n",
       "4          Yes                       1.0            120           E2   \n",
       "\n",
       "   Pecent hike expected in CTC  Percent hike offered in CTC  \\\n",
       "0                       -20.79                        13.16   \n",
       "1                        50.00                       320.00   \n",
       "2                        42.84                        42.84   \n",
       "3                        42.84                        42.84   \n",
       "4                        42.59                        42.59   \n",
       "\n",
       "   Percent difference CTC Joining Bonus Candidate relocate actual  Gender  \\\n",
       "0                   42.86            No                        No  Female   \n",
       "1                  180.00            No                        No    Male   \n",
       "2                    0.00            No                        No    Male   \n",
       "3                    0.00            No                        No    Male   \n",
       "4                    0.00            No                       Yes    Male   \n",
       "\n",
       "    Candidate Source  Rex in Yrs    LOB Location  Age  Status  Joined  \n",
       "0             Agency           7    ERS    Noida   34  Joined       1  \n",
       "1  Employee Referral           8  INFRA  Chennai   34  Joined       1  \n",
       "2             Agency           4  INFRA    Noida   27  Joined       1  \n",
       "3  Employee Referral           4  INFRA    Noida   34  Joined       1  \n",
       "4  Employee Referral           6  INFRA    Noida   34  Joined       1  "
      ]
     },
     "execution_count": 10,
     "metadata": {},
     "output_type": "execute_result"
    }
   ],
   "source": [
    "df.head(5)"
   ]
  },
  {
   "cell_type": "code",
   "execution_count": 11,
   "id": "2a8018be",
   "metadata": {},
   "outputs": [
    {
     "data": {
      "text/html": [
       "<div>\n",
       "<style scoped>\n",
       "    .dataframe tbody tr th:only-of-type {\n",
       "        vertical-align: middle;\n",
       "    }\n",
       "\n",
       "    .dataframe tbody tr th {\n",
       "        vertical-align: top;\n",
       "    }\n",
       "\n",
       "    .dataframe thead th {\n",
       "        text-align: right;\n",
       "    }\n",
       "</style>\n",
       "<table border=\"1\" class=\"dataframe\">\n",
       "  <thead>\n",
       "    <tr style=\"text-align: right;\">\n",
       "      <th></th>\n",
       "      <th>Duration to accept offer</th>\n",
       "      <th>Notice period</th>\n",
       "      <th>Pecent hike expected in CTC</th>\n",
       "      <th>Percent hike offered in CTC</th>\n",
       "      <th>Percent difference CTC</th>\n",
       "      <th>Rex in Yrs</th>\n",
       "      <th>Age</th>\n",
       "      <th>Joined</th>\n",
       "    </tr>\n",
       "  </thead>\n",
       "  <tbody>\n",
       "    <tr>\n",
       "      <th>count</th>\n",
       "      <td>9614.000000</td>\n",
       "      <td>12333.000000</td>\n",
       "      <td>11586.000000</td>\n",
       "      <td>11737.000000</td>\n",
       "      <td>11482.000000</td>\n",
       "      <td>12333.000000</td>\n",
       "      <td>12333.000000</td>\n",
       "      <td>12333.000000</td>\n",
       "    </tr>\n",
       "    <tr>\n",
       "      <th>mean</th>\n",
       "      <td>21.189619</td>\n",
       "      <td>37.943323</td>\n",
       "      <td>41.837663</td>\n",
       "      <td>37.772016</td>\n",
       "      <td>-2.078916</td>\n",
       "      <td>4.160788</td>\n",
       "      <td>30.232304</td>\n",
       "      <td>0.707452</td>\n",
       "    </tr>\n",
       "    <tr>\n",
       "      <th>std</th>\n",
       "      <td>26.410351</td>\n",
       "      <td>24.526587</td>\n",
       "      <td>29.435844</td>\n",
       "      <td>35.593317</td>\n",
       "      <td>19.997159</td>\n",
       "      <td>2.810108</td>\n",
       "      <td>4.178853</td>\n",
       "      <td>0.454951</td>\n",
       "    </tr>\n",
       "    <tr>\n",
       "      <th>min</th>\n",
       "      <td>-228.000000</td>\n",
       "      <td>0.000000</td>\n",
       "      <td>-68.830000</td>\n",
       "      <td>-60.530000</td>\n",
       "      <td>-68.950000</td>\n",
       "      <td>0.000000</td>\n",
       "      <td>19.000000</td>\n",
       "      <td>0.000000</td>\n",
       "    </tr>\n",
       "    <tr>\n",
       "      <th>25%</th>\n",
       "      <td>2.000000</td>\n",
       "      <td>30.000000</td>\n",
       "      <td>25.000000</td>\n",
       "      <td>20.000000</td>\n",
       "      <td>-9.090000</td>\n",
       "      <td>3.000000</td>\n",
       "      <td>27.000000</td>\n",
       "      <td>0.000000</td>\n",
       "    </tr>\n",
       "    <tr>\n",
       "      <th>50%</th>\n",
       "      <td>9.000000</td>\n",
       "      <td>30.000000</td>\n",
       "      <td>38.890000</td>\n",
       "      <td>34.480000</td>\n",
       "      <td>0.000000</td>\n",
       "      <td>4.000000</td>\n",
       "      <td>30.000000</td>\n",
       "      <td>1.000000</td>\n",
       "    </tr>\n",
       "    <tr>\n",
       "      <th>75%</th>\n",
       "      <td>32.000000</td>\n",
       "      <td>60.000000</td>\n",
       "      <td>52.170000</td>\n",
       "      <td>47.060000</td>\n",
       "      <td>0.000000</td>\n",
       "      <td>6.000000</td>\n",
       "      <td>34.000000</td>\n",
       "      <td>1.000000</td>\n",
       "    </tr>\n",
       "    <tr>\n",
       "      <th>max</th>\n",
       "      <td>224.000000</td>\n",
       "      <td>120.000000</td>\n",
       "      <td>359.770000</td>\n",
       "      <td>471.430000</td>\n",
       "      <td>300.000000</td>\n",
       "      <td>26.000000</td>\n",
       "      <td>64.000000</td>\n",
       "      <td>1.000000</td>\n",
       "    </tr>\n",
       "  </tbody>\n",
       "</table>\n",
       "</div>"
      ],
      "text/plain": [
       "       Duration to accept offer  Notice period  Pecent hike expected in CTC  \\\n",
       "count               9614.000000   12333.000000                 11586.000000   \n",
       "mean                  21.189619      37.943323                    41.837663   \n",
       "std                   26.410351      24.526587                    29.435844   \n",
       "min                 -228.000000       0.000000                   -68.830000   \n",
       "25%                    2.000000      30.000000                    25.000000   \n",
       "50%                    9.000000      30.000000                    38.890000   \n",
       "75%                   32.000000      60.000000                    52.170000   \n",
       "max                  224.000000     120.000000                   359.770000   \n",
       "\n",
       "       Percent hike offered in CTC  Percent difference CTC    Rex in Yrs  \\\n",
       "count                 11737.000000            11482.000000  12333.000000   \n",
       "mean                     37.772016               -2.078916      4.160788   \n",
       "std                      35.593317               19.997159      2.810108   \n",
       "min                     -60.530000              -68.950000      0.000000   \n",
       "25%                      20.000000               -9.090000      3.000000   \n",
       "50%                      34.480000                0.000000      4.000000   \n",
       "75%                      47.060000                0.000000      6.000000   \n",
       "max                     471.430000              300.000000     26.000000   \n",
       "\n",
       "                Age        Joined  \n",
       "count  12333.000000  12333.000000  \n",
       "mean      30.232304      0.707452  \n",
       "std        4.178853      0.454951  \n",
       "min       19.000000      0.000000  \n",
       "25%       27.000000      0.000000  \n",
       "50%       30.000000      1.000000  \n",
       "75%       34.000000      1.000000  \n",
       "max       64.000000      1.000000  "
      ]
     },
     "execution_count": 11,
     "metadata": {},
     "output_type": "execute_result"
    }
   ],
   "source": [
    "df.describe()"
   ]
  },
  {
   "cell_type": "code",
   "execution_count": 12,
   "id": "aa0d184a",
   "metadata": {},
   "outputs": [
    {
     "data": {
      "text/plain": [
       "DOJ Extended                      0\n",
       "Duration to accept offer       2719\n",
       "Notice period                     0\n",
       "Offered band                      0\n",
       "Pecent hike expected in CTC     747\n",
       "Percent hike offered in CTC     596\n",
       "Percent difference CTC          851\n",
       "Joining Bonus                     0\n",
       "Candidate relocate actual         0\n",
       "Gender                            0\n",
       "Candidate Source                  0\n",
       "Rex in Yrs                        0\n",
       "LOB                               0\n",
       "Location                          0\n",
       "Age                               0\n",
       "Status                            0\n",
       "Joined                            0\n",
       "dtype: int64"
      ]
     },
     "execution_count": 12,
     "metadata": {},
     "output_type": "execute_result"
    }
   ],
   "source": [
    "#Checking for Null values \n",
    "df.isna().sum()"
   ]
  },
  {
   "cell_type": "code",
   "execution_count": 13,
   "id": "bc6f6f4a",
   "metadata": {},
   "outputs": [
    {
     "data": {
      "text/plain": [
       "<AxesSubplot:>"
      ]
     },
     "execution_count": 13,
     "metadata": {},
     "output_type": "execute_result"
    },
    {
     "data": {
      "image/png": "[encoded data removed]",
      "text/plain": [
       "<Figure size 432x288 with 1 Axes>"
      ]
     },
     "metadata": {
      "needs_background": "light"
     },
     "output_type": "display_data"
    }
   ],
   "source": [
    "#visualising the null values in the dataset\n",
    "sns.heatmap(df.isna(),cbar=False)"
   ]
  },
  {
   "cell_type": "code",
   "execution_count": 14,
   "id": "3311460c",
   "metadata": {},
   "outputs": [
    {
     "data": {
      "text/plain": [
       "22.046541798426986"
      ]
     },
     "execution_count": 14,
     "metadata": {},
     "output_type": "execute_result"
    }
   ],
   "source": [
    "#find the % of null values in  df \n",
    "(df['Duration to accept offer'].isna().sum()/len(df['Duration to accept offer']))*100"
   ]
  },
  {
   "cell_type": "code",
   "execution_count": 15,
   "id": "4f9b7ec8",
   "metadata": {},
   "outputs": [],
   "source": [
    "# drop all rows with any NaN and NaT values\n",
    "df1 = df.dropna()"
   ]
  },
  {
   "cell_type": "code",
   "execution_count": 16,
   "id": "e2881aa8",
   "metadata": {},
   "outputs": [
    {
     "data": {
      "text/plain": [
       "<AxesSubplot:>"
      ]
     },
     "execution_count": 16,
     "metadata": {},
     "output_type": "execute_result"
    },
    {
     "data": {
      "image/png": "[encoded data removed]",
      "text/plain": [
       "<Figure size 432x288 with 1 Axes>"
      ]
     },
     "metadata": {
      "needs_background": "light"
     },
     "output_type": "display_data"
    }
   ],
   "source": [
    "#Checking for null values after dropping null values \n",
    "sns.heatmap(df1.isna(),cbar=False)"
   ]
  },
  {
   "cell_type": "code",
   "execution_count": 17,
   "id": "2bc6aafb",
   "metadata": {},
   "outputs": [
    {
     "data": {
      "text/plain": [
       "DOJ Extended                   0\n",
       "Duration to accept offer       0\n",
       "Notice period                  0\n",
       "Offered band                   0\n",
       "Pecent hike expected in CTC    0\n",
       "Percent hike offered in CTC    0\n",
       "Percent difference CTC         0\n",
       "Joining Bonus                  0\n",
       "Candidate relocate actual      0\n",
       "Gender                         0\n",
       "Candidate Source               0\n",
       "Rex in Yrs                     0\n",
       "LOB                            0\n",
       "Location                       0\n",
       "Age                            0\n",
       "Status                         0\n",
       "Joined                         0\n",
       "dtype: int64"
      ]
     },
     "execution_count": 17,
     "metadata": {},
     "output_type": "execute_result"
    }
   ],
   "source": [
    "#Checking for Null values \n",
    "df1.isna().sum()"
   ]
  },
  {
   "cell_type": "code",
   "execution_count": 18,
   "id": "29e0fb3b",
   "metadata": {},
   "outputs": [
    {
     "name": "stdout",
     "output_type": "stream",
     "text": [
      "<class 'pandas.core.frame.DataFrame'>\n",
      "Int64Index: 9011 entries, 0 to 12332\n",
      "Data columns (total 17 columns):\n",
      " #   Column                       Non-Null Count  Dtype  \n",
      "---  ------                       --------------  -----  \n",
      " 0   DOJ Extended                 9011 non-null   object \n",
      " 1   Duration to accept offer     9011 non-null   float64\n",
      " 2   Notice period                9011 non-null   int64  \n",
      " 3   Offered band                 9011 non-null   object \n",
      " 4   Pecent hike expected in CTC  9011 non-null   float64\n",
      " 5   Percent hike offered in CTC  9011 non-null   float64\n",
      " 6   Percent difference CTC       9011 non-null   float64\n",
      " 7   Joining Bonus                9011 non-null   object \n",
      " 8   Candidate relocate actual    9011 non-null   object \n",
      " 9   Gender                       9011 non-null   object \n",
      " 10  Candidate Source             9011 non-null   object \n",
      " 11  Rex in Yrs                   9011 non-null   int64  \n",
      " 12  LOB                          9011 non-null   object \n",
      " 13  Location                     9011 non-null   object \n",
      " 14  Age                          9011 non-null   int64  \n",
      " 15  Status                       9011 non-null   object \n",
      " 16  Joined                       9011 non-null   int64  \n",
      "dtypes: float64(4), int64(4), object(9)\n",
      "memory usage: 1.2+ MB\n"
     ]
    }
   ],
   "source": [
    "df1.info()"
   ]
  },
  {
   "cell_type": "code",
   "execution_count": 19,
   "id": "82a45067",
   "metadata": {},
   "outputs": [
    {
     "data": {
      "text/plain": [
       "(9011, 17)"
      ]
     },
     "execution_count": 19,
     "metadata": {},
     "output_type": "execute_result"
    }
   ],
   "source": [
    "df1.shape"
   ]
  },
  {
   "cell_type": "code",
   "execution_count": 20,
   "id": "90ddf866",
   "metadata": {},
   "outputs": [
    {
     "data": {
      "text/plain": [
       "DOJ Extended                    object\n",
       "Duration to accept offer       float64\n",
       "Notice period                  float64\n",
       "Offered band                    object\n",
       "Pecent hike expected in CTC    float64\n",
       "Percent hike offered in CTC    float64\n",
       "Percent difference CTC         float64\n",
       "Joining Bonus                   object\n",
       "Candidate relocate actual       object\n",
       "Gender                          object\n",
       "Candidate Source                object\n",
       "Rex in Yrs                       int64\n",
       "LOB                             object\n",
       "Location                        object\n",
       "Age                            float64\n",
       "Status                          object\n",
       "Joined                           int64\n",
       "dtype: object"
      ]
     },
     "execution_count": 20,
     "metadata": {},
     "output_type": "execute_result"
    }
   ],
   "source": [
    "df1 = df1.astype({\"Notice period\":'float', \"Age\":'float'}) \n",
    "df1.dtypes"
   ]
  },
  {
   "cell_type": "code",
   "execution_count": 21,
   "id": "3c64d0a6",
   "metadata": {},
   "outputs": [
    {
     "data": {
      "text/plain": [
       "Index(['DOJ Extended', 'Duration to accept offer', 'Notice period',\n",
       "       'Offered band', 'Pecent hike expected in CTC',\n",
       "       'Percent hike offered in CTC', 'Percent difference CTC',\n",
       "       'Joining Bonus', 'Candidate relocate actual', 'Gender',\n",
       "       'Candidate Source', 'Rex in Yrs', 'LOB', 'Location', 'Age', 'Status',\n",
       "       'Joined'],\n",
       "      dtype='object')"
      ]
     },
     "execution_count": 21,
     "metadata": {},
     "output_type": "execute_result"
    }
   ],
   "source": [
    "#Print all the columns\n",
    "df1.columns"
   ]
  },
  {
   "cell_type": "code",
   "execution_count": 22,
   "id": "bdf4a57b",
   "metadata": {},
   "outputs": [
    {
     "name": "stdout",
     "output_type": "stream",
     "text": [
      "DOJ Extended:['Yes' 'No']\n",
      "No     4802\n",
      "Yes    4209\n",
      "Name: DOJ Extended, dtype: int64\n",
      "-------------------------------------------\n",
      "Offered band:['E2' 'E1' 'E3' 'E0']\n",
      "E1    5578\n",
      "E2    2717\n",
      "E3     505\n",
      "E0     211\n",
      "Name: Offered band, dtype: int64\n",
      "-------------------------------------------\n",
      "Joining Bonus:['No' 'Yes']\n",
      "No     8593\n",
      "Yes     418\n",
      "Name: Joining Bonus, dtype: int64\n",
      "-------------------------------------------\n",
      "Candidate relocate actual:['No' 'Yes']\n",
      "No     7717\n",
      "Yes    1294\n",
      "Name: Candidate relocate actual, dtype: int64\n",
      "-------------------------------------------\n",
      "Gender:['Female' 'Male']\n",
      "Male      7457\n",
      "Female    1554\n",
      "Name: Gender, dtype: int64\n",
      "-------------------------------------------\n",
      "Candidate Source:['Agency' 'Employee Referral' 'Direct']\n",
      "Direct               4808\n",
      "Agency               2587\n",
      "Employee Referral    1616\n",
      "Name: Candidate Source, dtype: int64\n",
      "-------------------------------------------\n",
      "LOB:['ERS' 'INFRA' 'Healthcare' 'BFSI' 'CSMP' 'ETS' 'AXON' 'EAS' 'MMS']\n",
      "INFRA         2861\n",
      "ERS           2427\n",
      "BFSI          1396\n",
      "ETS            691\n",
      "CSMP           580\n",
      "AXON           569\n",
      "EAS            346\n",
      "Healthcare     126\n",
      "MMS             15\n",
      "Name: LOB, dtype: int64\n",
      "-------------------------------------------\n",
      "Location:['Noida' 'Chennai' 'Gurgaon' 'Bangalore' 'Hyderabad' 'Kolkata' 'Cochin'\n",
      " 'Pune' 'Others' 'Mumbai' 'Ahmedabad']\n",
      "Chennai      3152\n",
      "Noida        2735\n",
      "Bangalore    2234\n",
      "Hyderabad     341\n",
      "Mumbai        198\n",
      "Gurgaon       147\n",
      "Kolkata       129\n",
      "Pune           48\n",
      "Others         13\n",
      "Cochin          8\n",
      "Ahmedabad       6\n",
      "Name: Location, dtype: int64\n",
      "-------------------------------------------\n",
      "Status:['Joined' 'Not Joined']\n",
      "Joined        7326\n",
      "Not Joined    1685\n",
      "Name: Status, dtype: int64\n",
      "-------------------------------------------\n"
     ]
    }
   ],
   "source": [
    "#Checking for unique value counts is each category of the dataset \n",
    "for column in df1.columns:\n",
    "    if df1[column].dtype == object:\n",
    "        print(str(column)+':'+ str(df1[column].unique()))\n",
    "        print(df1[column].value_counts())\n",
    "        print('-------------------------------------------')"
   ]
  },
  {
   "cell_type": "code",
   "execution_count": 23,
   "id": "3b65a5f7",
   "metadata": {},
   "outputs": [
    {
     "data": {
      "text/plain": [
       "<AxesSubplot:xlabel='count', ylabel='LOB'>"
      ]
     },
     "execution_count": 23,
     "metadata": {},
     "output_type": "execute_result"
    },
    {
     "data": {
      "image/png": "[encoded data removed]",
      "text/plain": [
       "<Figure size 432x288 with 1 Axes>"
      ]
     },
     "metadata": {
      "needs_background": "light"
     },
     "output_type": "display_data"
    }
   ],
   "source": [
    "sns.countplot(y='LOB',data=df1)"
   ]
  },
  {
   "cell_type": "code",
   "execution_count": 24,
   "id": "4779b16f",
   "metadata": {},
   "outputs": [
    {
     "data": {
      "text/plain": [
       "<AxesSubplot:xlabel='Rex in Yrs', ylabel='count'>"
      ]
     },
     "execution_count": 24,
     "metadata": {},
     "output_type": "execute_result"
    },
    {
     "data": {
      "image/png": "[encoded data removed]",
      "text/plain": [
       "<Figure size 432x288 with 1 Axes>"
      ]
     },
     "metadata": {
      "needs_background": "light"
     },
     "output_type": "display_data"
    }
   ],
   "source": [
    "sns.countplot(x='Rex in Yrs',data=df1)"
   ]
  },
  {
   "cell_type": "code",
   "execution_count": 25,
   "id": "0874103e",
   "metadata": {},
   "outputs": [
    {
     "data": {
      "text/plain": [
       "<AxesSubplot:xlabel='count', ylabel='Location'>"
      ]
     },
     "execution_count": 25,
     "metadata": {},
     "output_type": "execute_result"
    },
    {
     "data": {
      "image/png": "[encoded data removed]",
      "text/plain": [
       "<Figure size 432x288 with 1 Axes>"
      ]
     },
     "metadata": {
      "needs_background": "light"
     },
     "output_type": "display_data"
    }
   ],
   "source": [
    "sns.countplot(y='Location',data=df1)"
   ]
  },
  {
   "cell_type": "code",
   "execution_count": 26,
   "id": "9a0ea41c",
   "metadata": {},
   "outputs": [
    {
     "data": {
      "text/plain": [
       "<AxesSubplot:xlabel='Gender', ylabel='count'>"
      ]
     },
     "execution_count": 26,
     "metadata": {},
     "output_type": "execute_result"
    },
    {
     "data": {
      "image/png": "[encoded data removed]",
      "text/plain": [
       "<Figure size 432x288 with 1 Axes>"
      ]
     },
     "metadata": {
      "needs_background": "light"
     },
     "output_type": "display_data"
    }
   ],
   "source": [
    "sns.countplot(x='Gender', hue='Status', data = df1, palette=\"dark\", edgecolor=sns.color_palette(\"dark\", n_colors = 1))"
   ]
  },
  {
   "cell_type": "code",
   "execution_count": 27,
   "id": "f68731d2",
   "metadata": {},
   "outputs": [
    {
     "data": {
      "text/plain": [
       "<AxesSubplot:xlabel='Candidate Source', ylabel='count'>"
      ]
     },
     "execution_count": 27,
     "metadata": {},
     "output_type": "execute_result"
    },
    {
     "data": {
      "image/png": "[encoded data removed]",
      "text/plain": [
       "<Figure size 432x288 with 1 Axes>"
      ]
     },
     "metadata": {
      "needs_background": "light"
     },
     "output_type": "display_data"
    }
   ],
   "source": [
    "sns.countplot(x='Candidate Source', hue='Status', data = df1, palette=\"dark\", edgecolor=sns.color_palette(\"dark\", n_colors = 1))"
   ]
  },
  {
   "cell_type": "code",
   "execution_count": 28,
   "id": "e2cb8228",
   "metadata": {},
   "outputs": [
    {
     "data": {
      "text/plain": [
       "<AxesSubplot:xlabel='DOJ Extended', ylabel='count'>"
      ]
     },
     "execution_count": 28,
     "metadata": {},
     "output_type": "execute_result"
    },
    {
     "data": {
      "image/png": "[encoded data removed]",
      "text/plain": [
       "<Figure size 432x288 with 1 Axes>"
      ]
     },
     "metadata": {
      "needs_background": "light"
     },
     "output_type": "display_data"
    }
   ],
   "source": [
    "sns.countplot(x='DOJ Extended', hue='Status', data = df1, palette=\"dark\", edgecolor=sns.color_palette(\"dark\", n_colors = 1))"
   ]
  },
  {
   "cell_type": "code",
   "execution_count": 29,
   "id": "910b3101",
   "metadata": {},
   "outputs": [],
   "source": [
    "df2=df1.drop(['Status'], axis = 1)"
   ]
  },
  {
   "cell_type": "code",
   "execution_count": 30,
   "id": "21ddf419",
   "metadata": {
    "scrolled": true
   },
   "outputs": [
    {
     "data": {
      "text/plain": [
       "<AxesSubplot:>"
      ]
     },
     "execution_count": 30,
     "metadata": {},
     "output_type": "execute_result"
    },
    {
     "data": {
      "image/png": "[encoded data removed]",
      "text/plain": [
       "<Figure size 720x720 with 2 Axes>"
      ]
     },
     "metadata": {
      "needs_background": "light"
     },
     "output_type": "display_data"
    }
   ],
   "source": [
    "#Checking for the correlation between all variables in the dataset\n",
    "plt.figure(figsize=(10,10)) #10in by 10in\n",
    "sns.heatmap(df2.apply(lambda x : pd.factorize(x)[0]).corr(method='spearman', min_periods=1), annot=True, fmt='.0%')"
   ]
  },
  {
   "cell_type": "markdown",
   "id": "0100130e",
   "metadata": {},
   "source": [
    "## PART 2 : Machine Learning Model- Logistic Regression"
   ]
  },
  {
   "cell_type": "code",
   "execution_count": 31,
   "id": "e46e9f16",
   "metadata": {},
   "outputs": [
    {
     "name": "stderr",
     "output_type": "stream",
     "text": [
      "C:\\Users\\ashwi\\AppData\\Local\\Temp/ipykernel_21220/1449401976.py:6: DeprecationWarning: Converting `np.inexact` or `np.floating` to a dtype is deprecated. The current result is `float64` which is not strictly correct.\n",
      "  if df2[column].dtype == np.number:\n"
     ]
    }
   ],
   "source": [
    "#Transform the data \n",
    "#Transform non-numeric columns into numerical columns\n",
    "from sklearn.preprocessing import LabelEncoder\n",
    "\n",
    "for column in df2.columns:\n",
    "        if df2[column].dtype == np.number:\n",
    "            continue\n",
    "        df2[column] = LabelEncoder().fit_transform(df2[column])"
   ]
  },
  {
   "cell_type": "code",
   "execution_count": 32,
   "id": "4632c07f",
   "metadata": {},
   "outputs": [
    {
     "data": {
      "text/html": [
       "<div>\n",
       "<style scoped>\n",
       "    .dataframe tbody tr th:only-of-type {\n",
       "        vertical-align: middle;\n",
       "    }\n",
       "\n",
       "    .dataframe tbody tr th {\n",
       "        vertical-align: top;\n",
       "    }\n",
       "\n",
       "    .dataframe thead th {\n",
       "        text-align: right;\n",
       "    }\n",
       "</style>\n",
       "<table border=\"1\" class=\"dataframe\">\n",
       "  <thead>\n",
       "    <tr style=\"text-align: right;\">\n",
       "      <th></th>\n",
       "      <th>DOJ Extended</th>\n",
       "      <th>Duration to accept offer</th>\n",
       "      <th>Notice period</th>\n",
       "      <th>Offered band</th>\n",
       "      <th>Pecent hike expected in CTC</th>\n",
       "      <th>Percent hike offered in CTC</th>\n",
       "      <th>Percent difference CTC</th>\n",
       "      <th>Joining Bonus</th>\n",
       "      <th>Candidate relocate actual</th>\n",
       "      <th>Gender</th>\n",
       "      <th>Candidate Source</th>\n",
       "      <th>Rex in Yrs</th>\n",
       "      <th>LOB</th>\n",
       "      <th>Location</th>\n",
       "      <th>Age</th>\n",
       "      <th>Joined</th>\n",
       "    </tr>\n",
       "  </thead>\n",
       "  <tbody>\n",
       "    <tr>\n",
       "      <th>0</th>\n",
       "      <td>1</td>\n",
       "      <td>14.0</td>\n",
       "      <td>30.0</td>\n",
       "      <td>2</td>\n",
       "      <td>-20.79</td>\n",
       "      <td>13.16</td>\n",
       "      <td>42.86</td>\n",
       "      <td>0</td>\n",
       "      <td>0</td>\n",
       "      <td>0</td>\n",
       "      <td>0</td>\n",
       "      <td>7</td>\n",
       "      <td>4</td>\n",
       "      <td>8</td>\n",
       "      <td>34.0</td>\n",
       "      <td>1</td>\n",
       "    </tr>\n",
       "    <tr>\n",
       "      <th>1</th>\n",
       "      <td>0</td>\n",
       "      <td>18.0</td>\n",
       "      <td>30.0</td>\n",
       "      <td>2</td>\n",
       "      <td>50.00</td>\n",
       "      <td>320.00</td>\n",
       "      <td>180.00</td>\n",
       "      <td>0</td>\n",
       "      <td>0</td>\n",
       "      <td>1</td>\n",
       "      <td>2</td>\n",
       "      <td>8</td>\n",
       "      <td>7</td>\n",
       "      <td>2</td>\n",
       "      <td>34.0</td>\n",
       "      <td>1</td>\n",
       "    </tr>\n",
       "    <tr>\n",
       "      <th>2</th>\n",
       "      <td>0</td>\n",
       "      <td>3.0</td>\n",
       "      <td>45.0</td>\n",
       "      <td>2</td>\n",
       "      <td>42.84</td>\n",
       "      <td>42.84</td>\n",
       "      <td>0.00</td>\n",
       "      <td>0</td>\n",
       "      <td>0</td>\n",
       "      <td>1</td>\n",
       "      <td>0</td>\n",
       "      <td>4</td>\n",
       "      <td>7</td>\n",
       "      <td>8</td>\n",
       "      <td>27.0</td>\n",
       "      <td>1</td>\n",
       "    </tr>\n",
       "    <tr>\n",
       "      <th>3</th>\n",
       "      <td>0</td>\n",
       "      <td>26.0</td>\n",
       "      <td>30.0</td>\n",
       "      <td>2</td>\n",
       "      <td>42.84</td>\n",
       "      <td>42.84</td>\n",
       "      <td>0.00</td>\n",
       "      <td>0</td>\n",
       "      <td>0</td>\n",
       "      <td>1</td>\n",
       "      <td>2</td>\n",
       "      <td>4</td>\n",
       "      <td>7</td>\n",
       "      <td>8</td>\n",
       "      <td>34.0</td>\n",
       "      <td>1</td>\n",
       "    </tr>\n",
       "    <tr>\n",
       "      <th>4</th>\n",
       "      <td>1</td>\n",
       "      <td>1.0</td>\n",
       "      <td>120.0</td>\n",
       "      <td>2</td>\n",
       "      <td>42.59</td>\n",
       "      <td>42.59</td>\n",
       "      <td>0.00</td>\n",
       "      <td>0</td>\n",
       "      <td>1</td>\n",
       "      <td>1</td>\n",
       "      <td>2</td>\n",
       "      <td>6</td>\n",
       "      <td>7</td>\n",
       "      <td>8</td>\n",
       "      <td>34.0</td>\n",
       "      <td>1</td>\n",
       "    </tr>\n",
       "    <tr>\n",
       "      <th>5</th>\n",
       "      <td>1</td>\n",
       "      <td>17.0</td>\n",
       "      <td>30.0</td>\n",
       "      <td>1</td>\n",
       "      <td>42.83</td>\n",
       "      <td>42.83</td>\n",
       "      <td>0.00</td>\n",
       "      <td>0</td>\n",
       "      <td>0</td>\n",
       "      <td>1</td>\n",
       "      <td>2</td>\n",
       "      <td>2</td>\n",
       "      <td>7</td>\n",
       "      <td>8</td>\n",
       "      <td>34.0</td>\n",
       "      <td>1</td>\n",
       "    </tr>\n",
       "    <tr>\n",
       "      <th>6</th>\n",
       "      <td>1</td>\n",
       "      <td>37.0</td>\n",
       "      <td>30.0</td>\n",
       "      <td>2</td>\n",
       "      <td>31.58</td>\n",
       "      <td>31.58</td>\n",
       "      <td>0.00</td>\n",
       "      <td>0</td>\n",
       "      <td>0</td>\n",
       "      <td>1</td>\n",
       "      <td>2</td>\n",
       "      <td>7</td>\n",
       "      <td>7</td>\n",
       "      <td>8</td>\n",
       "      <td>32.0</td>\n",
       "      <td>1</td>\n",
       "    </tr>\n",
       "    <tr>\n",
       "      <th>8</th>\n",
       "      <td>1</td>\n",
       "      <td>16.0</td>\n",
       "      <td>0.0</td>\n",
       "      <td>1</td>\n",
       "      <td>-20.00</td>\n",
       "      <td>-20.00</td>\n",
       "      <td>0.00</td>\n",
       "      <td>0</td>\n",
       "      <td>0</td>\n",
       "      <td>0</td>\n",
       "      <td>1</td>\n",
       "      <td>8</td>\n",
       "      <td>6</td>\n",
       "      <td>8</td>\n",
       "      <td>34.0</td>\n",
       "      <td>1</td>\n",
       "    </tr>\n",
       "    <tr>\n",
       "      <th>10</th>\n",
       "      <td>0</td>\n",
       "      <td>1.0</td>\n",
       "      <td>30.0</td>\n",
       "      <td>1</td>\n",
       "      <td>-22.22</td>\n",
       "      <td>-22.22</td>\n",
       "      <td>0.00</td>\n",
       "      <td>0</td>\n",
       "      <td>0</td>\n",
       "      <td>0</td>\n",
       "      <td>2</td>\n",
       "      <td>3</td>\n",
       "      <td>1</td>\n",
       "      <td>4</td>\n",
       "      <td>26.0</td>\n",
       "      <td>1</td>\n",
       "    </tr>\n",
       "    <tr>\n",
       "      <th>11</th>\n",
       "      <td>0</td>\n",
       "      <td>6.0</td>\n",
       "      <td>30.0</td>\n",
       "      <td>1</td>\n",
       "      <td>240.00</td>\n",
       "      <td>220.00</td>\n",
       "      <td>-5.88</td>\n",
       "      <td>0</td>\n",
       "      <td>0</td>\n",
       "      <td>1</td>\n",
       "      <td>2</td>\n",
       "      <td>3</td>\n",
       "      <td>2</td>\n",
       "      <td>2</td>\n",
       "      <td>34.0</td>\n",
       "      <td>1</td>\n",
       "    </tr>\n",
       "  </tbody>\n",
       "</table>\n",
       "</div>"
      ],
      "text/plain": [
       "    DOJ Extended  Duration to accept offer  Notice period  Offered band  \\\n",
       "0              1                      14.0           30.0             2   \n",
       "1              0                      18.0           30.0             2   \n",
       "2              0                       3.0           45.0             2   \n",
       "3              0                      26.0           30.0             2   \n",
       "4              1                       1.0          120.0             2   \n",
       "5              1                      17.0           30.0             1   \n",
       "6              1                      37.0           30.0             2   \n",
       "8              1                      16.0            0.0             1   \n",
       "10             0                       1.0           30.0             1   \n",
       "11             0                       6.0           30.0             1   \n",
       "\n",
       "    Pecent hike expected in CTC  Percent hike offered in CTC  \\\n",
       "0                        -20.79                        13.16   \n",
       "1                         50.00                       320.00   \n",
       "2                         42.84                        42.84   \n",
       "3                         42.84                        42.84   \n",
       "4                         42.59                        42.59   \n",
       "5                         42.83                        42.83   \n",
       "6                         31.58                        31.58   \n",
       "8                        -20.00                       -20.00   \n",
       "10                       -22.22                       -22.22   \n",
       "11                       240.00                       220.00   \n",
       "\n",
       "    Percent difference CTC  Joining Bonus  Candidate relocate actual  Gender  \\\n",
       "0                    42.86              0                          0       0   \n",
       "1                   180.00              0                          0       1   \n",
       "2                     0.00              0                          0       1   \n",
       "3                     0.00              0                          0       1   \n",
       "4                     0.00              0                          1       1   \n",
       "5                     0.00              0                          0       1   \n",
       "6                     0.00              0                          0       1   \n",
       "8                     0.00              0                          0       0   \n",
       "10                    0.00              0                          0       0   \n",
       "11                   -5.88              0                          0       1   \n",
       "\n",
       "    Candidate Source  Rex in Yrs  LOB  Location   Age  Joined  \n",
       "0                  0           7    4         8  34.0       1  \n",
       "1                  2           8    7         2  34.0       1  \n",
       "2                  0           4    7         8  27.0       1  \n",
       "3                  2           4    7         8  34.0       1  \n",
       "4                  2           6    7         8  34.0       1  \n",
       "5                  2           2    7         8  34.0       1  \n",
       "6                  2           7    7         8  32.0       1  \n",
       "8                  1           8    6         8  34.0       1  \n",
       "10                 2           3    1         4  26.0       1  \n",
       "11                 2           3    2         2  34.0       1  "
      ]
     },
     "execution_count": 32,
     "metadata": {},
     "output_type": "execute_result"
    }
   ],
   "source": [
    "df2.head(10)"
   ]
  },
  {
   "cell_type": "code",
   "execution_count": 33,
   "id": "e20d1cd4",
   "metadata": {},
   "outputs": [],
   "source": [
    "X = df2.drop(columns='Joined', axis=1)\n",
    "Y = df2['Joined']"
   ]
  },
  {
   "cell_type": "code",
   "execution_count": 34,
   "id": "d0e6315b",
   "metadata": {},
   "outputs": [],
   "source": [
    "# Splitting the data into Training data & Testing Data\n",
    "from sklearn.model_selection import train_test_split\n",
    "X_train, X_test, Y_train, Y_test = train_test_split(X, Y, test_size=0.2, random_state=2)"
   ]
  },
  {
   "cell_type": "code",
   "execution_count": 35,
   "id": "65c7e384",
   "metadata": {},
   "outputs": [
    {
     "data": {
      "text/html": [
       "<div>\n",
       "<style scoped>\n",
       "    .dataframe tbody tr th:only-of-type {\n",
       "        vertical-align: middle;\n",
       "    }\n",
       "\n",
       "    .dataframe tbody tr th {\n",
       "        vertical-align: top;\n",
       "    }\n",
       "\n",
       "    .dataframe thead th {\n",
       "        text-align: right;\n",
       "    }\n",
       "</style>\n",
       "<table border=\"1\" class=\"dataframe\">\n",
       "  <thead>\n",
       "    <tr style=\"text-align: right;\">\n",
       "      <th></th>\n",
       "      <th>DOJ Extended</th>\n",
       "      <th>Duration to accept offer</th>\n",
       "      <th>Notice period</th>\n",
       "      <th>Offered band</th>\n",
       "      <th>Pecent hike expected in CTC</th>\n",
       "      <th>Percent hike offered in CTC</th>\n",
       "      <th>Percent difference CTC</th>\n",
       "      <th>Joining Bonus</th>\n",
       "      <th>Candidate relocate actual</th>\n",
       "      <th>Gender</th>\n",
       "      <th>Candidate Source</th>\n",
       "      <th>Rex in Yrs</th>\n",
       "      <th>LOB</th>\n",
       "      <th>Location</th>\n",
       "      <th>Age</th>\n",
       "    </tr>\n",
       "  </thead>\n",
       "  <tbody>\n",
       "    <tr>\n",
       "      <th>11400</th>\n",
       "      <td>0</td>\n",
       "      <td>3.0</td>\n",
       "      <td>30.0</td>\n",
       "      <td>1</td>\n",
       "      <td>40.63</td>\n",
       "      <td>40.63</td>\n",
       "      <td>0.00</td>\n",
       "      <td>0</td>\n",
       "      <td>0</td>\n",
       "      <td>1</td>\n",
       "      <td>0</td>\n",
       "      <td>3</td>\n",
       "      <td>4</td>\n",
       "      <td>1</td>\n",
       "      <td>34.0</td>\n",
       "    </tr>\n",
       "    <tr>\n",
       "      <th>11771</th>\n",
       "      <td>1</td>\n",
       "      <td>31.0</td>\n",
       "      <td>30.0</td>\n",
       "      <td>1</td>\n",
       "      <td>90.48</td>\n",
       "      <td>42.86</td>\n",
       "      <td>-25.00</td>\n",
       "      <td>0</td>\n",
       "      <td>0</td>\n",
       "      <td>1</td>\n",
       "      <td>2</td>\n",
       "      <td>2</td>\n",
       "      <td>7</td>\n",
       "      <td>2</td>\n",
       "      <td>34.0</td>\n",
       "    </tr>\n",
       "    <tr>\n",
       "      <th>8169</th>\n",
       "      <td>0</td>\n",
       "      <td>2.0</td>\n",
       "      <td>30.0</td>\n",
       "      <td>1</td>\n",
       "      <td>41.09</td>\n",
       "      <td>32.28</td>\n",
       "      <td>-6.25</td>\n",
       "      <td>0</td>\n",
       "      <td>0</td>\n",
       "      <td>1</td>\n",
       "      <td>0</td>\n",
       "      <td>6</td>\n",
       "      <td>5</td>\n",
       "      <td>8</td>\n",
       "      <td>29.0</td>\n",
       "    </tr>\n",
       "    <tr>\n",
       "      <th>6830</th>\n",
       "      <td>0</td>\n",
       "      <td>3.0</td>\n",
       "      <td>30.0</td>\n",
       "      <td>1</td>\n",
       "      <td>20.00</td>\n",
       "      <td>20.00</td>\n",
       "      <td>0.00</td>\n",
       "      <td>0</td>\n",
       "      <td>0</td>\n",
       "      <td>0</td>\n",
       "      <td>0</td>\n",
       "      <td>1</td>\n",
       "      <td>7</td>\n",
       "      <td>8</td>\n",
       "      <td>27.0</td>\n",
       "    </tr>\n",
       "    <tr>\n",
       "      <th>3158</th>\n",
       "      <td>1</td>\n",
       "      <td>6.0</td>\n",
       "      <td>90.0</td>\n",
       "      <td>1</td>\n",
       "      <td>54.64</td>\n",
       "      <td>54.64</td>\n",
       "      <td>0.00</td>\n",
       "      <td>0</td>\n",
       "      <td>1</td>\n",
       "      <td>1</td>\n",
       "      <td>1</td>\n",
       "      <td>2</td>\n",
       "      <td>2</td>\n",
       "      <td>8</td>\n",
       "      <td>26.0</td>\n",
       "    </tr>\n",
       "    <tr>\n",
       "      <th>...</th>\n",
       "      <td>...</td>\n",
       "      <td>...</td>\n",
       "      <td>...</td>\n",
       "      <td>...</td>\n",
       "      <td>...</td>\n",
       "      <td>...</td>\n",
       "      <td>...</td>\n",
       "      <td>...</td>\n",
       "      <td>...</td>\n",
       "      <td>...</td>\n",
       "      <td>...</td>\n",
       "      <td>...</td>\n",
       "      <td>...</td>\n",
       "      <td>...</td>\n",
       "      <td>...</td>\n",
       "    </tr>\n",
       "    <tr>\n",
       "      <th>1390</th>\n",
       "      <td>1</td>\n",
       "      <td>18.0</td>\n",
       "      <td>30.0</td>\n",
       "      <td>1</td>\n",
       "      <td>87.50</td>\n",
       "      <td>39.06</td>\n",
       "      <td>-25.83</td>\n",
       "      <td>0</td>\n",
       "      <td>1</td>\n",
       "      <td>1</td>\n",
       "      <td>0</td>\n",
       "      <td>4</td>\n",
       "      <td>4</td>\n",
       "      <td>2</td>\n",
       "      <td>28.0</td>\n",
       "    </tr>\n",
       "    <tr>\n",
       "      <th>3518</th>\n",
       "      <td>1</td>\n",
       "      <td>2.0</td>\n",
       "      <td>45.0</td>\n",
       "      <td>1</td>\n",
       "      <td>20.00</td>\n",
       "      <td>-24.00</td>\n",
       "      <td>-36.67</td>\n",
       "      <td>0</td>\n",
       "      <td>0</td>\n",
       "      <td>0</td>\n",
       "      <td>2</td>\n",
       "      <td>1</td>\n",
       "      <td>4</td>\n",
       "      <td>8</td>\n",
       "      <td>25.0</td>\n",
       "    </tr>\n",
       "    <tr>\n",
       "      <th>8584</th>\n",
       "      <td>1</td>\n",
       "      <td>5.0</td>\n",
       "      <td>30.0</td>\n",
       "      <td>1</td>\n",
       "      <td>62.50</td>\n",
       "      <td>50.00</td>\n",
       "      <td>-7.69</td>\n",
       "      <td>0</td>\n",
       "      <td>0</td>\n",
       "      <td>0</td>\n",
       "      <td>2</td>\n",
       "      <td>4</td>\n",
       "      <td>4</td>\n",
       "      <td>2</td>\n",
       "      <td>29.0</td>\n",
       "    </tr>\n",
       "    <tr>\n",
       "      <th>3604</th>\n",
       "      <td>1</td>\n",
       "      <td>40.0</td>\n",
       "      <td>30.0</td>\n",
       "      <td>1</td>\n",
       "      <td>30.95</td>\n",
       "      <td>30.95</td>\n",
       "      <td>0.00</td>\n",
       "      <td>0</td>\n",
       "      <td>0</td>\n",
       "      <td>1</td>\n",
       "      <td>1</td>\n",
       "      <td>4</td>\n",
       "      <td>1</td>\n",
       "      <td>1</td>\n",
       "      <td>28.0</td>\n",
       "    </tr>\n",
       "    <tr>\n",
       "      <th>9473</th>\n",
       "      <td>1</td>\n",
       "      <td>37.0</td>\n",
       "      <td>30.0</td>\n",
       "      <td>1</td>\n",
       "      <td>129.17</td>\n",
       "      <td>112.50</td>\n",
       "      <td>-7.27</td>\n",
       "      <td>0</td>\n",
       "      <td>0</td>\n",
       "      <td>1</td>\n",
       "      <td>0</td>\n",
       "      <td>3</td>\n",
       "      <td>2</td>\n",
       "      <td>1</td>\n",
       "      <td>34.0</td>\n",
       "    </tr>\n",
       "  </tbody>\n",
       "</table>\n",
       "<p>7208 rows × 15 columns</p>\n",
       "</div>"
      ],
      "text/plain": [
       "       DOJ Extended  Duration to accept offer  Notice period  Offered band  \\\n",
       "11400             0                       3.0           30.0             1   \n",
       "11771             1                      31.0           30.0             1   \n",
       "8169              0                       2.0           30.0             1   \n",
       "6830              0                       3.0           30.0             1   \n",
       "3158              1                       6.0           90.0             1   \n",
       "...             ...                       ...            ...           ...   \n",
       "1390              1                      18.0           30.0             1   \n",
       "3518              1                       2.0           45.0             1   \n",
       "8584              1                       5.0           30.0             1   \n",
       "3604              1                      40.0           30.0             1   \n",
       "9473              1                      37.0           30.0             1   \n",
       "\n",
       "       Pecent hike expected in CTC  Percent hike offered in CTC  \\\n",
       "11400                        40.63                        40.63   \n",
       "11771                        90.48                        42.86   \n",
       "8169                         41.09                        32.28   \n",
       "6830                         20.00                        20.00   \n",
       "3158                         54.64                        54.64   \n",
       "...                            ...                          ...   \n",
       "1390                         87.50                        39.06   \n",
       "3518                         20.00                       -24.00   \n",
       "8584                         62.50                        50.00   \n",
       "3604                         30.95                        30.95   \n",
       "9473                        129.17                       112.50   \n",
       "\n",
       "       Percent difference CTC  Joining Bonus  Candidate relocate actual  \\\n",
       "11400                    0.00              0                          0   \n",
       "11771                  -25.00              0                          0   \n",
       "8169                    -6.25              0                          0   \n",
       "6830                     0.00              0                          0   \n",
       "3158                     0.00              0                          1   \n",
       "...                       ...            ...                        ...   \n",
       "1390                   -25.83              0                          1   \n",
       "3518                   -36.67              0                          0   \n",
       "8584                    -7.69              0                          0   \n",
       "3604                     0.00              0                          0   \n",
       "9473                    -7.27              0                          0   \n",
       "\n",
       "       Gender  Candidate Source  Rex in Yrs  LOB  Location   Age  \n",
       "11400       1                 0           3    4         1  34.0  \n",
       "11771       1                 2           2    7         2  34.0  \n",
       "8169        1                 0           6    5         8  29.0  \n",
       "6830        0                 0           1    7         8  27.0  \n",
       "3158        1                 1           2    2         8  26.0  \n",
       "...       ...               ...         ...  ...       ...   ...  \n",
       "1390        1                 0           4    4         2  28.0  \n",
       "3518        0                 2           1    4         8  25.0  \n",
       "8584        0                 2           4    4         2  29.0  \n",
       "3604        1                 1           4    1         1  28.0  \n",
       "9473        1                 0           3    2         1  34.0  \n",
       "\n",
       "[7208 rows x 15 columns]"
      ]
     },
     "execution_count": 35,
     "metadata": {},
     "output_type": "execute_result"
    }
   ],
   "source": [
    "X_train"
   ]
  },
  {
   "cell_type": "code",
   "execution_count": 36,
   "id": "9f41d832",
   "metadata": {},
   "outputs": [
    {
     "data": {
      "text/plain": [
       "11400    1\n",
       "11771    0\n",
       "8169     1\n",
       "6830     1\n",
       "3158     1\n",
       "        ..\n",
       "1390     1\n",
       "3518     1\n",
       "8584     1\n",
       "3604     1\n",
       "9473     1\n",
       "Name: Joined, Length: 7208, dtype: int64"
      ]
     },
     "execution_count": 36,
     "metadata": {},
     "output_type": "execute_result"
    }
   ],
   "source": [
    "Y_train"
   ]
  },
  {
   "cell_type": "code",
   "execution_count": 37,
   "id": "dd3b0aa9",
   "metadata": {},
   "outputs": [
    {
     "data": {
      "text/html": [
       "<div>\n",
       "<style scoped>\n",
       "    .dataframe tbody tr th:only-of-type {\n",
       "        vertical-align: middle;\n",
       "    }\n",
       "\n",
       "    .dataframe tbody tr th {\n",
       "        vertical-align: top;\n",
       "    }\n",
       "\n",
       "    .dataframe thead th {\n",
       "        text-align: right;\n",
       "    }\n",
       "</style>\n",
       "<table border=\"1\" class=\"dataframe\">\n",
       "  <thead>\n",
       "    <tr style=\"text-align: right;\">\n",
       "      <th></th>\n",
       "      <th>DOJ Extended</th>\n",
       "      <th>Duration to accept offer</th>\n",
       "      <th>Notice period</th>\n",
       "      <th>Offered band</th>\n",
       "      <th>Pecent hike expected in CTC</th>\n",
       "      <th>Percent hike offered in CTC</th>\n",
       "      <th>Percent difference CTC</th>\n",
       "      <th>Joining Bonus</th>\n",
       "      <th>Candidate relocate actual</th>\n",
       "      <th>Gender</th>\n",
       "      <th>Candidate Source</th>\n",
       "      <th>Rex in Yrs</th>\n",
       "      <th>LOB</th>\n",
       "      <th>Location</th>\n",
       "      <th>Age</th>\n",
       "    </tr>\n",
       "  </thead>\n",
       "  <tbody>\n",
       "    <tr>\n",
       "      <th>4145</th>\n",
       "      <td>0</td>\n",
       "      <td>2.0</td>\n",
       "      <td>60.0</td>\n",
       "      <td>2</td>\n",
       "      <td>15.47</td>\n",
       "      <td>7.39</td>\n",
       "      <td>-7.00</td>\n",
       "      <td>0</td>\n",
       "      <td>0</td>\n",
       "      <td>1</td>\n",
       "      <td>0</td>\n",
       "      <td>6</td>\n",
       "      <td>4</td>\n",
       "      <td>5</td>\n",
       "      <td>29.0</td>\n",
       "    </tr>\n",
       "    <tr>\n",
       "      <th>6138</th>\n",
       "      <td>1</td>\n",
       "      <td>57.0</td>\n",
       "      <td>45.0</td>\n",
       "      <td>2</td>\n",
       "      <td>20.29</td>\n",
       "      <td>10.67</td>\n",
       "      <td>-8.00</td>\n",
       "      <td>0</td>\n",
       "      <td>1</td>\n",
       "      <td>1</td>\n",
       "      <td>2</td>\n",
       "      <td>9</td>\n",
       "      <td>0</td>\n",
       "      <td>8</td>\n",
       "      <td>34.0</td>\n",
       "    </tr>\n",
       "    <tr>\n",
       "      <th>10979</th>\n",
       "      <td>0</td>\n",
       "      <td>2.0</td>\n",
       "      <td>30.0</td>\n",
       "      <td>1</td>\n",
       "      <td>50.00</td>\n",
       "      <td>83.33</td>\n",
       "      <td>22.22</td>\n",
       "      <td>0</td>\n",
       "      <td>0</td>\n",
       "      <td>1</td>\n",
       "      <td>1</td>\n",
       "      <td>3</td>\n",
       "      <td>5</td>\n",
       "      <td>1</td>\n",
       "      <td>34.0</td>\n",
       "    </tr>\n",
       "    <tr>\n",
       "      <th>10036</th>\n",
       "      <td>0</td>\n",
       "      <td>1.0</td>\n",
       "      <td>30.0</td>\n",
       "      <td>1</td>\n",
       "      <td>81.82</td>\n",
       "      <td>93.18</td>\n",
       "      <td>6.25</td>\n",
       "      <td>0</td>\n",
       "      <td>0</td>\n",
       "      <td>1</td>\n",
       "      <td>1</td>\n",
       "      <td>1</td>\n",
       "      <td>4</td>\n",
       "      <td>8</td>\n",
       "      <td>34.0</td>\n",
       "    </tr>\n",
       "    <tr>\n",
       "      <th>3851</th>\n",
       "      <td>0</td>\n",
       "      <td>29.0</td>\n",
       "      <td>30.0</td>\n",
       "      <td>1</td>\n",
       "      <td>39.76</td>\n",
       "      <td>26.51</td>\n",
       "      <td>-9.48</td>\n",
       "      <td>0</td>\n",
       "      <td>0</td>\n",
       "      <td>1</td>\n",
       "      <td>1</td>\n",
       "      <td>3</td>\n",
       "      <td>4</td>\n",
       "      <td>2</td>\n",
       "      <td>28.0</td>\n",
       "    </tr>\n",
       "    <tr>\n",
       "      <th>...</th>\n",
       "      <td>...</td>\n",
       "      <td>...</td>\n",
       "      <td>...</td>\n",
       "      <td>...</td>\n",
       "      <td>...</td>\n",
       "      <td>...</td>\n",
       "      <td>...</td>\n",
       "      <td>...</td>\n",
       "      <td>...</td>\n",
       "      <td>...</td>\n",
       "      <td>...</td>\n",
       "      <td>...</td>\n",
       "      <td>...</td>\n",
       "      <td>...</td>\n",
       "      <td>...</td>\n",
       "    </tr>\n",
       "    <tr>\n",
       "      <th>7309</th>\n",
       "      <td>0</td>\n",
       "      <td>1.0</td>\n",
       "      <td>30.0</td>\n",
       "      <td>2</td>\n",
       "      <td>40.00</td>\n",
       "      <td>40.00</td>\n",
       "      <td>0.00</td>\n",
       "      <td>0</td>\n",
       "      <td>0</td>\n",
       "      <td>1</td>\n",
       "      <td>1</td>\n",
       "      <td>4</td>\n",
       "      <td>7</td>\n",
       "      <td>8</td>\n",
       "      <td>29.0</td>\n",
       "    </tr>\n",
       "    <tr>\n",
       "      <th>4184</th>\n",
       "      <td>1</td>\n",
       "      <td>7.0</td>\n",
       "      <td>60.0</td>\n",
       "      <td>1</td>\n",
       "      <td>33.33</td>\n",
       "      <td>16.67</td>\n",
       "      <td>-12.50</td>\n",
       "      <td>0</td>\n",
       "      <td>0</td>\n",
       "      <td>1</td>\n",
       "      <td>0</td>\n",
       "      <td>3</td>\n",
       "      <td>4</td>\n",
       "      <td>2</td>\n",
       "      <td>25.0</td>\n",
       "    </tr>\n",
       "    <tr>\n",
       "      <th>11417</th>\n",
       "      <td>0</td>\n",
       "      <td>1.0</td>\n",
       "      <td>30.0</td>\n",
       "      <td>1</td>\n",
       "      <td>30.43</td>\n",
       "      <td>13.04</td>\n",
       "      <td>-13.33</td>\n",
       "      <td>0</td>\n",
       "      <td>0</td>\n",
       "      <td>1</td>\n",
       "      <td>1</td>\n",
       "      <td>1</td>\n",
       "      <td>7</td>\n",
       "      <td>8</td>\n",
       "      <td>34.0</td>\n",
       "    </tr>\n",
       "    <tr>\n",
       "      <th>3987</th>\n",
       "      <td>0</td>\n",
       "      <td>2.0</td>\n",
       "      <td>30.0</td>\n",
       "      <td>2</td>\n",
       "      <td>22.11</td>\n",
       "      <td>22.11</td>\n",
       "      <td>0.00</td>\n",
       "      <td>0</td>\n",
       "      <td>0</td>\n",
       "      <td>1</td>\n",
       "      <td>1</td>\n",
       "      <td>5</td>\n",
       "      <td>0</td>\n",
       "      <td>8</td>\n",
       "      <td>28.0</td>\n",
       "    </tr>\n",
       "    <tr>\n",
       "      <th>303</th>\n",
       "      <td>1</td>\n",
       "      <td>84.0</td>\n",
       "      <td>45.0</td>\n",
       "      <td>2</td>\n",
       "      <td>42.84</td>\n",
       "      <td>42.84</td>\n",
       "      <td>0.00</td>\n",
       "      <td>0</td>\n",
       "      <td>0</td>\n",
       "      <td>1</td>\n",
       "      <td>1</td>\n",
       "      <td>5</td>\n",
       "      <td>7</td>\n",
       "      <td>5</td>\n",
       "      <td>35.0</td>\n",
       "    </tr>\n",
       "  </tbody>\n",
       "</table>\n",
       "<p>1803 rows × 15 columns</p>\n",
       "</div>"
      ],
      "text/plain": [
       "       DOJ Extended  Duration to accept offer  Notice period  Offered band  \\\n",
       "4145              0                       2.0           60.0             2   \n",
       "6138              1                      57.0           45.0             2   \n",
       "10979             0                       2.0           30.0             1   \n",
       "10036             0                       1.0           30.0             1   \n",
       "3851              0                      29.0           30.0             1   \n",
       "...             ...                       ...            ...           ...   \n",
       "7309              0                       1.0           30.0             2   \n",
       "4184              1                       7.0           60.0             1   \n",
       "11417             0                       1.0           30.0             1   \n",
       "3987              0                       2.0           30.0             2   \n",
       "303               1                      84.0           45.0             2   \n",
       "\n",
       "       Pecent hike expected in CTC  Percent hike offered in CTC  \\\n",
       "4145                         15.47                         7.39   \n",
       "6138                         20.29                        10.67   \n",
       "10979                        50.00                        83.33   \n",
       "10036                        81.82                        93.18   \n",
       "3851                         39.76                        26.51   \n",
       "...                            ...                          ...   \n",
       "7309                         40.00                        40.00   \n",
       "4184                         33.33                        16.67   \n",
       "11417                        30.43                        13.04   \n",
       "3987                         22.11                        22.11   \n",
       "303                          42.84                        42.84   \n",
       "\n",
       "       Percent difference CTC  Joining Bonus  Candidate relocate actual  \\\n",
       "4145                    -7.00              0                          0   \n",
       "6138                    -8.00              0                          1   \n",
       "10979                   22.22              0                          0   \n",
       "10036                    6.25              0                          0   \n",
       "3851                    -9.48              0                          0   \n",
       "...                       ...            ...                        ...   \n",
       "7309                     0.00              0                          0   \n",
       "4184                   -12.50              0                          0   \n",
       "11417                  -13.33              0                          0   \n",
       "3987                     0.00              0                          0   \n",
       "303                      0.00              0                          0   \n",
       "\n",
       "       Gender  Candidate Source  Rex in Yrs  LOB  Location   Age  \n",
       "4145        1                 0           6    4         5  29.0  \n",
       "6138        1                 2           9    0         8  34.0  \n",
       "10979       1                 1           3    5         1  34.0  \n",
       "10036       1                 1           1    4         8  34.0  \n",
       "3851        1                 1           3    4         2  28.0  \n",
       "...       ...               ...         ...  ...       ...   ...  \n",
       "7309        1                 1           4    7         8  29.0  \n",
       "4184        1                 0           3    4         2  25.0  \n",
       "11417       1                 1           1    7         8  34.0  \n",
       "3987        1                 1           5    0         8  28.0  \n",
       "303         1                 1           5    7         5  35.0  \n",
       "\n",
       "[1803 rows x 15 columns]"
      ]
     },
     "execution_count": 37,
     "metadata": {},
     "output_type": "execute_result"
    }
   ],
   "source": [
    "X_test"
   ]
  },
  {
   "cell_type": "code",
   "execution_count": 38,
   "id": "88e479f6",
   "metadata": {},
   "outputs": [
    {
     "data": {
      "text/plain": [
       "4145     0\n",
       "6138     1\n",
       "10979    1\n",
       "10036    0\n",
       "3851     1\n",
       "        ..\n",
       "7309     1\n",
       "4184     0\n",
       "11417    1\n",
       "3987     0\n",
       "303      1\n",
       "Name: Joined, Length: 1803, dtype: int64"
      ]
     },
     "execution_count": 38,
     "metadata": {},
     "output_type": "execute_result"
    }
   ],
   "source": [
    "Y_test"
   ]
  },
  {
   "cell_type": "code",
   "execution_count": 39,
   "id": "298f116a",
   "metadata": {},
   "outputs": [
    {
     "data": {
      "text/plain": [
       "1450"
      ]
     },
     "execution_count": 39,
     "metadata": {},
     "output_type": "execute_result"
    }
   ],
   "source": [
    "Y_test.sum()"
   ]
  },
  {
   "cell_type": "code",
   "execution_count": 40,
   "id": "9ec8680a",
   "metadata": {},
   "outputs": [],
   "source": [
    "from sklearn.datasets import make_classification\n",
    "from matplotlib import pyplot as plt\n",
    "from sklearn.linear_model import LogisticRegression\n",
    "from sklearn.model_selection import train_test_split\n",
    "from sklearn.metrics import confusion_matrix\n"
   ]
  },
  {
   "cell_type": "code",
   "execution_count": 41,
   "id": "531ab7ee",
   "metadata": {},
   "outputs": [
    {
     "name": "stderr",
     "output_type": "stream",
     "text": [
      "C:\\Users\\ashwi\\anaconda3\\lib\\site-packages\\sklearn\\linear_model\\_logistic.py:763: ConvergenceWarning: lbfgs failed to converge (status=1):\n",
      "STOP: TOTAL NO. of ITERATIONS REACHED LIMIT.\n",
      "\n",
      "Increase the number of iterations (max_iter) or scale the data as shown in:\n",
      "    https://scikit-learn.org/stable/modules/preprocessing.html\n",
      "Please also refer to the documentation for alternative solver options:\n",
      "    https://scikit-learn.org/stable/modules/linear_model.html#logistic-regression\n",
      "  n_iter_i = _check_optimize_result(\n"
     ]
    },
    {
     "data": {
      "text/plain": [
       "LogisticRegression()"
      ]
     },
     "execution_count": 41,
     "metadata": {},
     "output_type": "execute_result"
    }
   ],
   "source": [
    "# Create a Logistic Regression Object, perform Logistic Regression\n",
    "log_reg = LogisticRegression()\n",
    "log_reg.fit(X_train, Y_train)"
   ]
  },
  {
   "cell_type": "code",
   "execution_count": 42,
   "id": "ae902f4d",
   "metadata": {},
   "outputs": [],
   "source": [
    "predict=log_reg.predict(X_test)"
   ]
  },
  {
   "cell_type": "code",
   "execution_count": 43,
   "id": "61b892be",
   "metadata": {},
   "outputs": [],
   "source": [
    "from sklearn.metrics import confusion_matrix "
   ]
  },
  {
   "cell_type": "code",
   "execution_count": 44,
   "id": "c7db8624",
   "metadata": {},
   "outputs": [
    {
     "data": {
      "text/html": [
       "<div>\n",
       "<style scoped>\n",
       "    .dataframe tbody tr th:only-of-type {\n",
       "        vertical-align: middle;\n",
       "    }\n",
       "\n",
       "    .dataframe tbody tr th {\n",
       "        vertical-align: top;\n",
       "    }\n",
       "\n",
       "    .dataframe thead th {\n",
       "        text-align: right;\n",
       "    }\n",
       "</style>\n",
       "<table border=\"1\" class=\"dataframe\">\n",
       "  <thead>\n",
       "    <tr style=\"text-align: right;\">\n",
       "      <th></th>\n",
       "      <th>Predicted No</th>\n",
       "      <th>Predicted Yes</th>\n",
       "    </tr>\n",
       "  </thead>\n",
       "  <tbody>\n",
       "    <tr>\n",
       "      <th>Actual No</th>\n",
       "      <td>24</td>\n",
       "      <td>329</td>\n",
       "    </tr>\n",
       "    <tr>\n",
       "      <th>Actual Yes</th>\n",
       "      <td>19</td>\n",
       "      <td>1431</td>\n",
       "    </tr>\n",
       "  </tbody>\n",
       "</table>\n",
       "</div>"
      ],
      "text/plain": [
       "            Predicted No  Predicted Yes\n",
       "Actual No             24            329\n",
       "Actual Yes            19           1431"
      ]
     },
     "execution_count": 44,
     "metadata": {},
     "output_type": "execute_result"
    }
   ],
   "source": [
    "pd.DataFrame(confusion_matrix(Y_test,predict),columns=['Predicted No','Predicted Yes'],index=['Actual No','Actual Yes'])"
   ]
  },
  {
   "cell_type": "markdown",
   "id": "4381c175",
   "metadata": {},
   "source": [
    "24 = True Negative,\n",
    "1431 = True Positive,\n",
    "19 = False Negative,\n",
    "329 = False Positive "
   ]
  },
  {
   "cell_type": "code",
   "execution_count": 45,
   "id": "bb2c1c40",
   "metadata": {},
   "outputs": [
    {
     "name": "stdout",
     "output_type": "stream",
     "text": [
      "0.8069883527454242\n"
     ]
    }
   ],
   "source": [
    "#Checking for model accuracy score\n",
    "from sklearn import metrics\n",
    "print(metrics.accuracy_score(Y_test, predict))"
   ]
  },
  {
   "cell_type": "code",
   "execution_count": 46,
   "id": "3d00cab2",
   "metadata": {},
   "outputs": [],
   "source": [
    "from sklearn.metrics import classification_report"
   ]
  },
  {
   "cell_type": "code",
   "execution_count": 47,
   "id": "d7474ebc",
   "metadata": {},
   "outputs": [
    {
     "name": "stdout",
     "output_type": "stream",
     "text": [
      "              precision    recall  f1-score   support\n",
      "\n",
      "           0       0.56      0.07      0.12       353\n",
      "           1       0.81      0.99      0.89      1450\n",
      "\n",
      "    accuracy                           0.81      1803\n",
      "   macro avg       0.69      0.53      0.51      1803\n",
      "weighted avg       0.76      0.81      0.74      1803\n",
      "\n"
     ]
    }
   ],
   "source": [
    "print(classification_report(Y_test,predict))"
   ]
  },
  {
   "cell_type": "markdown",
   "id": "f64a1347",
   "metadata": {},
   "source": [
    "Precision is fine considering Model Selected and Available Data. Accuracy can be increased by further using more\n",
    "features (which we dropped earlier) and/or by using other model\n",
    "\n",
    "Note:\n",
    "\n",
    "Precision: Precision is the ratio of correctly predicted positive observations to the total predicted positive observations\n",
    "\n",
    "Recall: Recall is the ratio of correctly predicted positive observations to the all observations in actual class \n",
    "\n",
    "F1 score: F1 Score is the weighted average of Precision and Recall"
   ]
  },
  {
   "cell_type": "code",
   "execution_count": 48,
   "id": "62b20901",
   "metadata": {},
   "outputs": [
    {
     "data": {
      "text/plain": [
       "array([[0.38803205, 0.61196795],\n",
       "       [0.00678358, 0.99321642],\n",
       "       [0.15821592, 0.84178408],\n",
       "       ...,\n",
       "       [0.102558  , 0.897442  ],\n",
       "       [0.17049997, 0.82950003],\n",
       "       [0.11494764, 0.88505236]])"
      ]
     },
     "execution_count": 48,
     "metadata": {},
     "output_type": "execute_result"
    }
   ],
   "source": [
    "#Checking for each probability for the testing dataset\n",
    "prob_predict=log_reg.predict_proba(X_test)\n",
    "prob_predict"
   ]
  },
  {
   "cell_type": "code",
   "execution_count": 52,
   "id": "365d9f85",
   "metadata": {},
   "outputs": [
    {
     "data": {
      "text/plain": [
       "array([0.61196795, 0.99321642, 0.84178408, ..., 0.897442  , 0.82950003,\n",
       "       0.88505236])"
      ]
     },
     "execution_count": 52,
     "metadata": {},
     "output_type": "execute_result"
    }
   ],
   "source": [
    "probs = prob_predict[:, 1]\n",
    "probs"
   ]
  },
  {
   "cell_type": "code",
   "execution_count": 56,
   "id": "e607112f",
   "metadata": {},
   "outputs": [
    {
     "data": {
      "text/plain": [
       "0.4390770764461765"
      ]
     },
     "execution_count": 56,
     "metadata": {},
     "output_type": "execute_result"
    }
   ],
   "source": [
    "from sklearn.metrics import log_loss\n",
    "loss = log_loss(Y_test, probs)\n",
    "loss"
   ]
  },
  {
   "cell_type": "markdown",
   "id": "7772fcae",
   "metadata": {},
   "source": [
    "Log Loss is the most important classification metric based on probabilities. For any given problem, a lower log-loss value means better predictions"
   ]
  },
  {
   "cell_type": "code",
   "execution_count": 58,
   "id": "dacf0f3f",
   "metadata": {},
   "outputs": [],
   "source": [
    "# calculate roc curve\n",
    "from sklearn.metrics import roc_curve\n",
    "fpr, tpr, thresholds = roc_curve(Y_test, probs)"
   ]
  },
  {
   "cell_type": "code",
   "execution_count": 59,
   "id": "7d598efe",
   "metadata": {},
   "outputs": [
    {
     "data": {
      "text/plain": [
       "array([1.99845633, 0.99845633, 0.9935972 , 0.99357207, 0.99338018,\n",
       "       0.9932565 , 0.95497584, 0.95446057, 0.95335423, 0.95307524,\n",
       "       0.94699521, 0.94698054, 0.94527772, 0.94518679, 0.94078681,\n",
       "       0.94009078, 0.93873091, 0.93796861, 0.93454126, 0.93450694,\n",
       "       0.93067471, 0.93044046, 0.92987714, 0.92941442, 0.92630299,\n",
       "       0.92586853, 0.91459186, 0.9138588 , 0.91278508, 0.91254115,\n",
       "       0.91213839, 0.91189957, 0.90746522, 0.90718524, 0.90645319,\n",
       "       0.90588958, 0.90486071, 0.90485516, 0.90472378, 0.90429953,\n",
       "       0.90191148, 0.90156666, 0.89987987, 0.89970663, 0.89872116,\n",
       "       0.89852999, 0.8979323 , 0.89779096, 0.89739875, 0.89666743,\n",
       "       0.89463565, 0.8945208 , 0.89171323, 0.89150798, 0.88647897,\n",
       "       0.88637743, 0.88628352, 0.88594082, 0.88533968, 0.88513717,\n",
       "       0.8843761 , 0.88428431, 0.88392619, 0.88391362, 0.88377564,\n",
       "       0.88323193, 0.88308624, 0.8830831 , 0.88189387, 0.88180471,\n",
       "       0.88104406, 0.88081332, 0.87866789, 0.87853233, 0.87562447,\n",
       "       0.87547477, 0.87538473, 0.87502884, 0.87494634, 0.87490483,\n",
       "       0.87242549, 0.87233544, 0.87184083, 0.87168945, 0.87119959,\n",
       "       0.87118555, 0.87113023, 0.87105759, 0.87072446, 0.87058906,\n",
       "       0.87038537, 0.87024911, 0.86935995, 0.86919791, 0.86849438,\n",
       "       0.86838309, 0.86775472, 0.86772409, 0.86603231, 0.86465142,\n",
       "       0.86451421, 0.86438599, 0.86390445, 0.86374851, 0.86198457,\n",
       "       0.861904  , 0.86088875, 0.86069889, 0.86068733, 0.8606048 ,\n",
       "       0.85966893, 0.85934834, 0.8583373 , 0.85830157, 0.85741937,\n",
       "       0.8573975 , 0.85662816, 0.85659577, 0.85553738, 0.85539635,\n",
       "       0.85518552, 0.85516016, 0.85502009, 0.85495542, 0.85387574,\n",
       "       0.85383671, 0.85252018, 0.85238356, 0.85184634, 0.85162271,\n",
       "       0.85033428, 0.85032898, 0.85023035, 0.85001657, 0.84964293,\n",
       "       0.84907276, 0.84903413, 0.84894258, 0.84686591, 0.84669646,\n",
       "       0.84632011, 0.84615409, 0.84591834, 0.84583171, 0.84387789,\n",
       "       0.84366153, 0.84332892, 0.84305622, 0.8414683 , 0.84128411,\n",
       "       0.84069749, 0.84028479, 0.83502688, 0.8348245 , 0.83428863,\n",
       "       0.83428596, 0.83410422, 0.83377802, 0.83323799, 0.8332341 ,\n",
       "       0.83291261, 0.83276099, 0.83268806, 0.83266548, 0.83168268,\n",
       "       0.83136872, 0.83128499, 0.83099985, 0.83095024, 0.83069373,\n",
       "       0.83053202, 0.8290151 , 0.82885247, 0.828728  , 0.82860106,\n",
       "       0.82768613, 0.82766753, 0.82746076, 0.82691386, 0.82635401,\n",
       "       0.82425112, 0.82408814, 0.82392528, 0.82344387, 0.82286424,\n",
       "       0.82270972, 0.82242397, 0.82237241, 0.82128377, 0.82104449,\n",
       "       0.8198152 , 0.81946427, 0.81940288, 0.81918829, 0.81888592,\n",
       "       0.81874735, 0.81867472, 0.81824089, 0.81627977, 0.81614211,\n",
       "       0.81595232, 0.81589087, 0.81573139, 0.81556491, 0.8147154 ,\n",
       "       0.81412933, 0.81399343, 0.81359507, 0.81351331, 0.81338852,\n",
       "       0.81336135, 0.81304014, 0.81280983, 0.81250201, 0.8124251 ,\n",
       "       0.81236651, 0.81080753, 0.81052136, 0.80963516, 0.80942783,\n",
       "       0.80883196, 0.80868782, 0.80721062, 0.80689729, 0.80602882,\n",
       "       0.80596204, 0.80581943, 0.8057564 , 0.80462181, 0.80362115,\n",
       "       0.8033736 , 0.80323868, 0.80317095, 0.80302769, 0.80074434,\n",
       "       0.80058514, 0.80050757, 0.80038235, 0.79732944, 0.79724546,\n",
       "       0.79720044, 0.79693536, 0.79599627, 0.79345936, 0.79311793,\n",
       "       0.79245468, 0.79224371, 0.78903226, 0.78840264, 0.7883581 ,\n",
       "       0.78833683, 0.78595507, 0.78578627, 0.78489993, 0.78450594,\n",
       "       0.78415676, 0.78381163, 0.7837797 , 0.78362496, 0.7829139 ,\n",
       "       0.78268943, 0.78140873, 0.78077631, 0.78047454, 0.78039763,\n",
       "       0.77990314, 0.77981017, 0.77679945, 0.77668673, 0.77645471,\n",
       "       0.77642604, 0.77629103, 0.77624408, 0.77609338, 0.77592553,\n",
       "       0.77498536, 0.77495786, 0.77443655, 0.77433216, 0.77374424,\n",
       "       0.77281159, 0.77274951, 0.77269002, 0.77017904, 0.76992871,\n",
       "       0.76760854, 0.76754201, 0.76748017, 0.76728591, 0.7672364 ,\n",
       "       0.76714626, 0.76583547, 0.76526592, 0.76492704, 0.76467488,\n",
       "       0.76319094, 0.76275035, 0.7623328 , 0.76216928, 0.76067243,\n",
       "       0.76050589, 0.75892683, 0.75853929, 0.75602348, 0.75572389,\n",
       "       0.75385381, 0.75368955, 0.75296644, 0.75293303, 0.75173133,\n",
       "       0.75128389, 0.74986471, 0.74920622, 0.74906002, 0.7490249 ,\n",
       "       0.74736227, 0.74734237, 0.74679046, 0.74666697, 0.74656889,\n",
       "       0.74586502, 0.74444043, 0.74424332, 0.74407444, 0.74291201,\n",
       "       0.74236288, 0.74222497, 0.74165263, 0.7414137 , 0.7410243 ,\n",
       "       0.74085826, 0.73992422, 0.7398614 , 0.73895501, 0.73839064,\n",
       "       0.73805044, 0.7378133 , 0.73690407, 0.73642251, 0.73543465,\n",
       "       0.73501343, 0.73453637, 0.73446509, 0.73385136, 0.73350039,\n",
       "       0.73043909, 0.72996138, 0.72986686, 0.72963993, 0.72902192,\n",
       "       0.72737329, 0.72677566, 0.72649111, 0.72590167, 0.72586856,\n",
       "       0.72518027, 0.72481751, 0.7245941 , 0.72450316, 0.72322168,\n",
       "       0.72297636, 0.72244693, 0.72240214, 0.72227886, 0.72182056,\n",
       "       0.72181189, 0.72147047, 0.72104569, 0.72074715, 0.71824416,\n",
       "       0.71816   , 0.71273218, 0.71176883, 0.71035418, 0.70998848,\n",
       "       0.70955517, 0.70831809, 0.70784148, 0.70780285, 0.70766527,\n",
       "       0.70709144, 0.70582295, 0.70490958, 0.70486245, 0.70457965,\n",
       "       0.70364656, 0.70304194, 0.70154236, 0.70089988, 0.70034296,\n",
       "       0.70031012, 0.69989414, 0.69972642, 0.69916358, 0.69911646,\n",
       "       0.69877113, 0.69631276, 0.69478321, 0.69448613, 0.69341108,\n",
       "       0.69313776, 0.69139432, 0.69116546, 0.68643793, 0.68555278,\n",
       "       0.68527909, 0.6841133 , 0.68283553, 0.68218334, 0.6818602 ,\n",
       "       0.68122859, 0.67812859, 0.67774893, 0.67740794, 0.67725255,\n",
       "       0.676656  , 0.67615123, 0.67595732, 0.67573433, 0.67554521,\n",
       "       0.67532961, 0.674747  , 0.6746839 , 0.67167673, 0.67162706,\n",
       "       0.67153834, 0.67148183, 0.67117765, 0.67020369, 0.66930442,\n",
       "       0.66914225, 0.66689386, 0.66670755, 0.66414122, 0.66411906,\n",
       "       0.66187717, 0.6609487 , 0.65883632, 0.65876188, 0.65830159,\n",
       "       0.65752177, 0.65696028, 0.65660822, 0.65476659, 0.65411594,\n",
       "       0.65297778, 0.65243945, 0.65183501, 0.65114727, 0.65061559,\n",
       "       0.65011166, 0.65007405, 0.64998302, 0.64952497, 0.64791985,\n",
       "       0.64342342, 0.64283066, 0.64153958, 0.63849889, 0.63758485,\n",
       "       0.6369495 , 0.63662118, 0.63579106, 0.63368558, 0.6335284 ,\n",
       "       0.62713242, 0.62323292, 0.62218951, 0.62081473, 0.6204238 ,\n",
       "       0.62038055, 0.61854067, 0.61802959, 0.61665158, 0.61646052,\n",
       "       0.61333133, 0.61328444, 0.613108  , 0.61196795, 0.61010301,\n",
       "       0.60894478, 0.60127024, 0.60090557, 0.60090284, 0.59962218,\n",
       "       0.59863419, 0.59768431, 0.59620292, 0.58559391, 0.58278143,\n",
       "       0.58261852, 0.58051461, 0.57497612, 0.56878008, 0.56833004,\n",
       "       0.5678515 , 0.5660268 , 0.54543928, 0.54242176, 0.53621374,\n",
       "       0.53574053, 0.53551406, 0.53220473, 0.52713361, 0.52253611,\n",
       "       0.52080536, 0.51241359, 0.50430445, 0.50283624, 0.50226452,\n",
       "       0.49018346, 0.48565704, 0.48406278, 0.48149691, 0.4814658 ,\n",
       "       0.45825768, 0.44942132, 0.44896514, 0.44599217, 0.42425111,\n",
       "       0.40941156, 0.40462812, 0.38005957, 0.37356707, 0.35929202,\n",
       "       0.34164335, 0.3302696 ])"
      ]
     },
     "execution_count": 59,
     "metadata": {},
     "output_type": "execute_result"
    }
   ],
   "source": [
    "thresholds"
   ]
  },
  {
   "cell_type": "code",
   "execution_count": 61,
   "id": "99c0adb4",
   "metadata": {},
   "outputs": [
    {
     "data": {
      "image/png": "[encoded data removed]",
      "text/plain": [
       "<Figure size 432x288 with 1 Axes>"
      ]
     },
     "metadata": {
      "needs_background": "light"
     },
     "output_type": "display_data"
    }
   ],
   "source": [
    "# plot no skill\n",
    "plt.plot([0, 1], [0, 1], linestyle='--')\n",
    "# plot the roc curve for the model\n",
    "plt.plot(fpr, tpr)\n",
    "# show the plot\n",
    "plt.show()"
   ]
  },
  {
   "cell_type": "code",
   "execution_count": 49,
   "id": "88c363c2",
   "metadata": {},
   "outputs": [],
   "source": [
    "import statsmodels.api as sm\n",
    "model = sm.OLS(Y,X).fit() "
   ]
  },
  {
   "cell_type": "code",
   "execution_count": 50,
   "id": "f94db03d",
   "metadata": {},
   "outputs": [
    {
     "name": "stdout",
     "output_type": "stream",
     "text": [
      "(array([0.00008228, 0.0000015 , 0.00003576, ..., 0.00000006, 0.00000026,\n",
      "       0.00000433]), array([1., 1., 1., ..., 1., 1., 1.]))\n"
     ]
    }
   ],
   "source": [
    "#suppress scientific notation\n",
    "import numpy as np\n",
    "np.set_printoptions(suppress=True)\n",
    "\n",
    "#create instance of influence\n",
    "influence = model.get_influence()\n",
    "\n",
    "#obtain Cook's distance for each observation\n",
    "cooks = influence.cooks_distance\n",
    "\n",
    "#display Cook's distances\n",
    "print(cooks)"
   ]
  },
  {
   "cell_type": "markdown",
   "id": "7bf6eddc",
   "metadata": {},
   "source": [
    "## Thank you!"
   ]
  }
 ],
 "metadata": {
  "kernelspec": {
   "display_name": "Python 3",
   "language": "python",
   "name": "python3"
  },
  "language_info": {
   "codemirror_mode": {
    "name": "ipython",
    "version": 3
   },
   "file_extension": ".py",
   "mimetype": "text/x-python",
   "name": "python",
   "nbconvert_exporter": "python",
   "pygments_lexer": "ipython3",
   "version": "3.6.13"
  }
 },
 "nbformat": 4,
 "nbformat_minor": 5
}
